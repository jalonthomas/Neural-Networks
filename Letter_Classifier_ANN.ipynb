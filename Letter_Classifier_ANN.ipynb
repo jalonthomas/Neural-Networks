{
  "nbformat": 4,
  "nbformat_minor": 0,
  "metadata": {
    "colab": {
      "name": "Letter Classifier ANN.ipynb",
      "provenance": [],
      "collapsed_sections": [],
      "authorship_tag": "ABX9TyNMpDO1zTDvHxbhF2L4yOBm",
      "include_colab_link": true
    },
    "kernelspec": {
      "name": "python3",
      "display_name": "Python 3"
    },
    "accelerator": "GPU"
  },
  "cells": [
    {
      "cell_type": "markdown",
      "metadata": {
        "id": "view-in-github",
        "colab_type": "text"
      },
      "source": [
        "<a href=\"https://colab.research.google.com/github/jalonthomas/Neural-Networks/blob/main/Letter_Classifier_ANN.ipynb\" target=\"_parent\"><img src=\"https://colab.research.google.com/assets/colab-badge.svg\" alt=\"Open In Colab\"/></a>"
      ]
    },
    {
      "cell_type": "code",
      "metadata": {
        "id": "EUUocOVam7FX"
      },
      "source": [
        "# Description: Classify handwritten letters\n",
        "!pip install emnist numpy matplotlib keras "
      ],
      "execution_count": null,
      "outputs": []
    },
    {
      "cell_type": "code",
      "metadata": {
        "id": "u4R1GZXnnVOz"
      },
      "source": [
        "#Import packages\n",
        "import numpy as np\n",
        "import matplotlib.pyplot as plt #Graph\n",
        "import emnist\n",
        "from emnist import extract_training_samples\n",
        "from keras.models import Sequential #ANN architecture\n",
        "from keras.layers import Dense #ANN layers\n",
        "from keras.layers import Dropout \n",
        "from keras.utils import to_categorical "
      ],
      "execution_count": 4,
      "outputs": []
    },
    {
      "cell_type": "code",
      "metadata": {
        "id": "SYvowIHYqzWs"
      },
      "source": [
        "#Load dataset\n",
        "x_train, y_train = extract_training_samples('letters') \n",
        "x_test, y_test = extract_training_samples('letters')\n",
        "\n",
        "#Normalize values from 0-1\n",
        "x_train = x_train/255\n",
        "x_test = x_test/255\n",
        "\n",
        "#Flatten images: transform from 28x28 to a 784 dimensional vector passed into the network\n",
        "x_train = x_train.reshape((-1,784))\n",
        "x_test = x_test.reshape((-1,784))"
      ],
      "execution_count": null,
      "outputs": []
    },
    {
      "cell_type": "code",
      "metadata": {
        "id": "80rfHAfoudAB"
      },
      "source": [
        "#Build model\n",
        "# 3 layes, 2 layers with 128 neurons and the relu activation function\n",
        "# 1 layer with 10 neurons and softmax function\n",
        "model = Sequential()\n",
        "model.add(Dense(128, activation='relu', input_dim=784))\n",
        "model.add(Dense(128, activation='relu'))\n",
        "model.add(Dense(27, activation='softmax'))"
      ],
      "execution_count": 6,
      "outputs": []
    },
    {
      "cell_type": "code",
      "metadata": {
        "id": "475iTp-Pujhp"
      },
      "source": [
        "#Compile model\n",
        "#Loss function measures how pooorly the ANN performed and tries to improve with\n",
        "#the given optimizer\n",
        "model.compile(\n",
        "    optimizer='adam',\n",
        "    loss='categorical_crossentropy',\n",
        "    metrics=['accuracy']\n",
        ")"
      ],
      "execution_count": 7,
      "outputs": []
    },
    {
      "cell_type": "code",
      "metadata": {
        "id": "n-vT9ZhBuw--"
      },
      "source": [
        "#Train the model\n",
        "model.fit(\n",
        "    x_train,\n",
        "      to_categorical(y_train), #Ex. 2 expects [0, 0, 1, 0, 0, 0, 0, 0, 0, 0]\n",
        "      epochs = 10,\n",
        "      batch_size = 128 #number of samples per gradient update\n",
        ")"
      ],
      "execution_count": null,
      "outputs": []
    },
    {
      "cell_type": "code",
      "metadata": {
        "id": "govNFwqOu2kI"
      },
      "source": [
        "#Evaluate model\n",
        "from keras.models import load_model\n",
        "model = load_model('/my_model.h5')\n",
        "model.evaluate(\n",
        "    x_test,\n",
        "    to_categorical(y_test)\n",
        ")"
      ],
      "execution_count": null,
      "outputs": []
    },
    {
      "cell_type": "code",
      "metadata": {
        "id": "uNryFCVi0_lj"
      },
      "source": [
        "#Predict test images\n",
        "predictions = model.predict(x_test[:10])\n",
        "\n",
        "#print predictions\n",
        "print(np.argmax(predictions, axis=1))\n",
        "print(y_test[:10])"
      ],
      "execution_count": null,
      "outputs": []
    },
    {
      "cell_type": "code",
      "metadata": {
        "id": "e9kNykniw5lJ"
      },
      "source": [
        "#Displays first 10 letters\n",
        "for i in range(0,10):\n",
        "  img = x_train[i] \n",
        "  img = np.array(img, dtype='float') #convert 784 dim vector into array\n",
        "  pixels = img.reshape((28,28)) #Change img back into original 28x28 form\n",
        "  plt.imshow(pixels, cmap='gray')\n",
        "  plt.show()"
      ],
      "execution_count": null,
      "outputs": []
    }
  ]
}